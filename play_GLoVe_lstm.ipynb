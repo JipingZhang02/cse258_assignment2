{
 "cells": [
  {
   "cell_type": "code",
   "execution_count": 1,
   "metadata": {},
   "outputs": [],
   "source": [
    "import torch"
   ]
  },
  {
   "cell_type": "code",
   "execution_count": 4,
   "metadata": {},
   "outputs": [],
   "source": [
    "import numpy as np\n",
    "from tqdm import tqdm\n",
    "from typing import *"
   ]
  },
  {
   "cell_type": "code",
   "execution_count": 7,
   "metadata": {},
   "outputs": [
    {
     "name": "stderr",
     "output_type": "stream",
     "text": [
      "100%|██████████| 400000/400000 [00:10<00:00, 39245.38it/s]"
     ]
    },
    {
     "name": "stdout",
     "output_type": "stream",
     "text": [
      "0 lines are discarded\n"
     ]
    },
    {
     "name": "stderr",
     "output_type": "stream",
     "text": [
      "\n"
     ]
    }
   ],
   "source": [
    "def load_GLoVe_embedding(dim:int=50)->Dict[str,List[float]]:\n",
    "    res = dict()\n",
    "    error_cnt = 0\n",
    "    with open(f\"./glove.6B/glove.6B.{dim}d.txt\",encoding=\"utf-8\") as fin:\n",
    "        lines = fin.readlines()\n",
    "        for line in tqdm(lines):\n",
    "            elements = line.split()\n",
    "            if len(elements)!=dim+1:\n",
    "                error_cnt+=1\n",
    "                continue\n",
    "            word = elements[0]\n",
    "            vector = list(map(float,elements[1:]))\n",
    "            res[word]=vector\n",
    "        print(f\"{error_cnt} lines are discarded\")\n",
    "    return res\n",
    "\n",
    "glove_emb_50d = load_GLoVe_embedding(50)"
   ]
  },
  {
   "cell_type": "code",
   "execution_count": 14,
   "metadata": {},
   "outputs": [
    {
     "data": {
      "text/plain": [
       "['abc d !aa ?bb']"
      ]
     },
     "execution_count": 14,
     "metadata": {},
     "output_type": "execute_result"
    }
   ],
   "source": [
    "special_chars = \"?!.,\\\\/'\\\" \""
   ]
  },
  {
   "cell_type": "code",
   "execution_count": 15,
   "metadata": {},
   "outputs": [
    {
     "data": {
      "text/plain": [
       "[0.46755,\n",
       " 0.39882,\n",
       " 0.7177,\n",
       " 0.98078,\n",
       " -0.83506,\n",
       " -1.349,\n",
       " -0.077912,\n",
       " -1.6177,\n",
       " 0.48186,\n",
       " -0.66898,\n",
       " -0.2752,\n",
       " -0.505,\n",
       " 0.97787,\n",
       " -0.4233,\n",
       " 0.43053,\n",
       " 0.61406,\n",
       " -0.23832,\n",
       " -0.16187,\n",
       " 0.83987,\n",
       " 1.4521,\n",
       " -0.60643,\n",
       " -0.57524,\n",
       " 0.23486,\n",
       " 1.2081,\n",
       " 0.36832,\n",
       " 0.47708,\n",
       " -0.59682,\n",
       " 0.14042,\n",
       " -0.29342,\n",
       " -1.1061,\n",
       " 0.7506,\n",
       " 0.57223,\n",
       " -0.20928,\n",
       " 0.30112,\n",
       " -1.3918,\n",
       " 0.52884,\n",
       " -0.32497,\n",
       " -0.49895,\n",
       " 0.37762,\n",
       " -0.20195,\n",
       " 0.98689,\n",
       " 0.051335,\n",
       " 0.4321,\n",
       " -0.0085923,\n",
       " -0.053992,\n",
       " 0.09167,\n",
       " 1.1407,\n",
       " 0.80974,\n",
       " 0.73705,\n",
       " 0.38907]"
      ]
     },
     "execution_count": 15,
     "metadata": {},
     "output_type": "execute_result"
    }
   ],
   "source": [
    "glove_emb_50d[\"www\"]"
   ]
  },
  {
   "cell_type": "code",
   "execution_count": 13,
   "metadata": {},
   "outputs": [
    {
     "data": {
      "text/plain": [
       "[-0.58402,\n",
       " 0.39031,\n",
       " 0.65282,\n",
       " -0.3403,\n",
       " 0.19493,\n",
       " -0.83489,\n",
       " 0.11929,\n",
       " -0.57291,\n",
       " -0.56844,\n",
       " 0.72989,\n",
       " -0.56975,\n",
       " 0.53436,\n",
       " -0.38034,\n",
       " 0.22471,\n",
       " 0.98031,\n",
       " -0.2966,\n",
       " 0.126,\n",
       " 0.55222,\n",
       " -0.62737,\n",
       " -0.082242,\n",
       " -0.085359,\n",
       " 0.31515,\n",
       " 0.96077,\n",
       " 0.31986,\n",
       " 0.87878,\n",
       " -1.5189,\n",
       " -1.7831,\n",
       " 0.35639,\n",
       " 0.9674,\n",
       " -1.5497,\n",
       " 2.335,\n",
       " 0.8494,\n",
       " -1.2371,\n",
       " 1.0623,\n",
       " -1.4267,\n",
       " -0.49056,\n",
       " 0.85465,\n",
       " -1.2878,\n",
       " 0.60204,\n",
       " -0.35963,\n",
       " 0.28586,\n",
       " -0.052162,\n",
       " -0.50818,\n",
       " -0.63459,\n",
       " 0.33889,\n",
       " 0.28416,\n",
       " -0.2034,\n",
       " -1.2338,\n",
       " 0.46715,\n",
       " 0.78858]"
      ]
     },
     "execution_count": 13,
     "metadata": {},
     "output_type": "execute_result"
    }
   ],
   "source": [
    "glove_emb_50d[\"!\"]"
   ]
  }
 ],
 "metadata": {
  "kernelspec": {
   "display_name": "Python 3",
   "language": "python",
   "name": "python3"
  },
  "language_info": {
   "codemirror_mode": {
    "name": "ipython",
    "version": 3
   },
   "file_extension": ".py",
   "mimetype": "text/x-python",
   "name": "python",
   "nbconvert_exporter": "python",
   "pygments_lexer": "ipython3",
   "version": "3.10.11"
  }
 },
 "nbformat": 4,
 "nbformat_minor": 2
}
